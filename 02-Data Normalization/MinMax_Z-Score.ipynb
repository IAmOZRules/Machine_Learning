{
 "cells": [
  {
   "cell_type": "markdown",
   "metadata": {},
   "source": [
    "# SHREYAANS NAHATA: 19BCE2686"
   ]
  },
  {
   "cell_type": "markdown",
   "metadata": {},
   "source": [
    "### Importing the required libraries"
   ]
  },
  {
   "cell_type": "code",
   "execution_count": 1,
   "metadata": {},
   "outputs": [],
   "source": [
    "import pandas\n",
    "import numpy as np\n",
    "from sklearn.preprocessing import MinMaxScaler\n",
    "from sklearn.preprocessing import StandardScaler"
   ]
  },
  {
   "cell_type": "markdown",
   "metadata": {},
   "source": [
    "### Importing the dataset"
   ]
  },
  {
   "cell_type": "code",
   "execution_count": 2,
   "metadata": {},
   "outputs": [],
   "source": [
    "names = ['height', 'weight']\n",
    "dataset = pandas.read_csv(r'weight-height.csv', header=0, names=names)\n",
    "array = dataset.values"
   ]
  },
  {
   "cell_type": "markdown",
   "metadata": {},
   "source": [
    "#### Printing the Mean and Standard Deviation of the Test Data"
   ]
  },
  {
   "cell_type": "code",
   "execution_count": 3,
   "metadata": {},
   "outputs": [
    {
     "name": "stdout",
     "output_type": "stream",
     "text": [
      "Mean:\n",
      "height     69.458791\n",
      "weight    187.143278\n",
      "dtype: float64\n",
      "\n",
      "Standard Deviation:\n",
      "height     3.126871\n",
      "weight    21.363615\n",
      "dtype: float64\n"
     ]
    }
   ],
   "source": [
    "mean = dataset.mean()\n",
    "std = dataset.std()\n",
    "print(\"Mean:\"); print(mean)\n",
    "print(\"\")\n",
    "print(\"Standard Deviation:\"); print(std)"
   ]
  },
  {
   "cell_type": "code",
   "execution_count": 4,
   "metadata": {},
   "outputs": [
    {
     "name": "stdout",
     "output_type": "stream",
     "text": [
      "------ Printing 10 headers of the dataset ------\n",
      "      height      weight\n",
      "0  73.847017  241.893563\n",
      "1  68.781904  162.310473\n",
      "2  74.110105  212.740856\n",
      "3  71.730978  220.042470\n",
      "4  69.881796  206.349801\n",
      "5  67.253016  152.212156\n",
      "6  68.785081  183.927889\n",
      "7  68.348516  167.971111\n",
      "8  67.018950  175.929440\n",
      "9  63.456494  156.399676\n"
     ]
    }
   ],
   "source": [
    "print(\"------ Printing 10 headers of the dataset ------\")\n",
    "print(dataset.head(10))"
   ]
  },
  {
   "cell_type": "markdown",
   "metadata": {},
   "source": [
    "#### Summarizing the dataset"
   ]
  },
  {
   "cell_type": "code",
   "execution_count": 5,
   "metadata": {},
   "outputs": [
    {
     "name": "stdout",
     "output_type": "stream",
     "text": [
      "\n",
      "------ Summarizing the dataset ------\n",
      "<class 'pandas.core.frame.DataFrame'>\n",
      "RangeIndex: 40 entries, 0 to 39\n",
      "Data columns (total 2 columns):\n",
      " #   Column  Non-Null Count  Dtype  \n",
      "---  ------  --------------  -----  \n",
      " 0   height  40 non-null     float64\n",
      " 1   weight  40 non-null     float64\n",
      "dtypes: float64(2)\n",
      "memory usage: 768.0 bytes\n",
      "None\n"
     ]
    }
   ],
   "source": [
    "print(\"\\n------ Summarizing the dataset ------\")\n",
    "print(dataset.info())"
   ]
  },
  {
   "cell_type": "markdown",
   "metadata": {},
   "source": [
    "### Performing Mix-Max Normalization (range -10 to 10) on the dataset..."
   ]
  },
  {
   "cell_type": "code",
   "execution_count": 6,
   "metadata": {},
   "outputs": [
    {
     "name": "stdout",
     "output_type": "stream",
     "text": [
      "\n",
      "---- Min-Max Normalization ----\n",
      "Summarizing Transformed Data (10 headers): \n",
      "[[  3.015  10.   ]\n",
      " [ -3.33   -7.166]\n",
      " [  3.344   3.712]\n",
      " [  0.364   5.287]\n",
      " [ -1.952   2.333]\n",
      " [ -5.245  -9.345]\n",
      " [ -3.326  -2.503]\n",
      " [ -3.872  -5.945]\n",
      " [ -5.538  -4.229]\n",
      " [-10.     -8.441]]\n"
     ]
    }
   ],
   "source": [
    "# Min-Max Normalization\n",
    "print(\"\\n---- Min-Max Normalization ----\")\n",
    "X = array[:, 0:2]\n",
    "Y = array[:, 1]\n",
    "scaler = MinMaxScaler(feature_range=(-10,10))\n",
    "rescaledX = scaler.fit_transform(X)\n",
    "\n",
    "# summarize transformed data\n",
    "print(\"Summarizing Transformed Data (10 headers): \")\n",
    "np.set_printoptions(precision=3)\n",
    "print(rescaledX[0:10, :])"
   ]
  },
  {
   "cell_type": "markdown",
   "metadata": {},
   "source": [
    "### Performing Z-Score Transformation on the dataset..."
   ]
  },
  {
   "cell_type": "code",
   "execution_count": 7,
   "metadata": {},
   "outputs": [
    {
     "name": "stdout",
     "output_type": "stream",
     "text": [
      "\n",
      "---- Z-Score Transformation ----\n",
      "Summarizing Transformed Data (10 headers): \n",
      "[[ 1.421  2.595]\n",
      " [-0.219 -1.177]\n",
      " [ 1.506  1.213]\n",
      " [ 0.736  1.56 ]\n",
      " [ 0.137  0.91 ]\n",
      " [-0.714 -1.656]\n",
      " [-0.218 -0.152]\n",
      " [-0.36  -0.909]\n",
      " [-0.79  -0.532]\n",
      " [-1.944 -1.457]]\n"
     ]
    }
   ],
   "source": [
    "# Z-Score Transformation\n",
    "print(\"\\n---- Z-Score Transformation ----\")\n",
    "X = array[:,0:2] \n",
    "Y = array[:,1] \n",
    "scaler = StandardScaler().fit(X) \n",
    "rescaledX = scaler.transform(X)\n",
    "\n",
    "# summarize transformed data\n",
    "print(\"Summarizing Transformed Data (10 headers): \")\n",
    "np.set_printoptions(precision=3) \n",
    "print(rescaledX[0:10,:])"
   ]
  },
  {
   "cell_type": "markdown",
   "metadata": {},
   "source": [
    "#### Printing the Mean and Standard Deviation of the Transformed data"
   ]
  },
  {
   "cell_type": "code",
   "execution_count": 9,
   "metadata": {},
   "outputs": [
    {
     "name": "stdout",
     "output_type": "stream",
     "text": [
      "Mean:\n",
      "height   -1.976197e-15\n",
      "weight   -1.765948e-16\n",
      "dtype: float64\n",
      "\n",
      "Standard Deviation:\n",
      "height    1.012739\n",
      "weight    1.012739\n",
      "dtype: float64\n"
     ]
    }
   ],
   "source": [
    "mean = pandas.DataFrame(rescaledX, columns=names).mean()\n",
    "std = pandas.DataFrame(rescaledX, columns=names).std()\n",
    "print(\"Mean:\"); print(mean)\n",
    "print(\"\")\n",
    "print(\"Standard Deviation:\"); print(std)"
   ]
  },
  {
   "cell_type": "code",
   "execution_count": null,
   "metadata": {},
   "outputs": [],
   "source": []
  }
 ],
 "metadata": {
  "kernelspec": {
   "display_name": "Python 3",
   "language": "python",
   "name": "python3"
  },
  "language_info": {
   "codemirror_mode": {
    "name": "ipython",
    "version": 3
   },
   "file_extension": ".py",
   "mimetype": "text/x-python",
   "name": "python",
   "nbconvert_exporter": "python",
   "pygments_lexer": "ipython3",
   "version": "3.8.5"
  }
 },
 "nbformat": 4,
 "nbformat_minor": 4
}
