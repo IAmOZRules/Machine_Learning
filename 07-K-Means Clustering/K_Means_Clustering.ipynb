{
 "cells": [
  {
   "cell_type": "markdown",
   "metadata": {},
   "source": [
    "### Importing the Libraries"
   ]
  },
  {
   "cell_type": "code",
   "execution_count": 1,
   "metadata": {},
   "outputs": [],
   "source": [
    "import pandas as pd\n",
    "import numpy as np\n",
    "import matplotlib.pyplot as plt\n",
    "import seaborn as sns"
   ]
  },
  {
   "cell_type": "markdown",
   "metadata": {},
   "source": [
    "### Importing the Dataset"
   ]
  },
  {
   "cell_type": "code",
   "execution_count": 2,
   "metadata": {},
   "outputs": [],
   "source": [
    "data = pd.read_csv('place.txt', header=None)"
   ]
  },
  {
   "cell_type": "markdown",
   "metadata": {},
   "source": [
    "### Printing the first headers of the dataset"
   ]
  },
  {
   "cell_type": "code",
   "execution_count": 3,
   "metadata": {},
   "outputs": [
    {
     "data": {
      "text/html": [
       "<div>\n",
       "<style scoped>\n",
       "    .dataframe tbody tr th:only-of-type {\n",
       "        vertical-align: middle;\n",
       "    }\n",
       "\n",
       "    .dataframe tbody tr th {\n",
       "        vertical-align: top;\n",
       "    }\n",
       "\n",
       "    .dataframe thead th {\n",
       "        text-align: right;\n",
       "    }\n",
       "</style>\n",
       "<table border=\"1\" class=\"dataframe\">\n",
       "  <thead>\n",
       "    <tr style=\"text-align: right;\">\n",
       "      <th></th>\n",
       "      <th>0</th>\n",
       "      <th>1</th>\n",
       "    </tr>\n",
       "  </thead>\n",
       "  <tbody>\n",
       "    <tr>\n",
       "      <th>0</th>\n",
       "      <td>-112.070792</td>\n",
       "      <td>33.451625</td>\n",
       "    </tr>\n",
       "    <tr>\n",
       "      <th>1</th>\n",
       "      <td>-112.065542</td>\n",
       "      <td>33.449298</td>\n",
       "    </tr>\n",
       "    <tr>\n",
       "      <th>2</th>\n",
       "      <td>-112.073931</td>\n",
       "      <td>33.456491</td>\n",
       "    </tr>\n",
       "    <tr>\n",
       "      <th>3</th>\n",
       "      <td>-112.074866</td>\n",
       "      <td>33.470116</td>\n",
       "    </tr>\n",
       "    <tr>\n",
       "      <th>4</th>\n",
       "      <td>-80.525690</td>\n",
       "      <td>43.477099</td>\n",
       "    </tr>\n",
       "  </tbody>\n",
       "</table>\n",
       "</div>"
      ],
      "text/plain": [
       "            0          1\n",
       "0 -112.070792  33.451625\n",
       "1 -112.065542  33.449298\n",
       "2 -112.073931  33.456491\n",
       "3 -112.074866  33.470116\n",
       "4  -80.525690  43.477099"
      ]
     },
     "execution_count": 3,
     "metadata": {},
     "output_type": "execute_result"
    }
   ],
   "source": [
    "data.head()"
   ]
  },
  {
   "cell_type": "markdown",
   "metadata": {},
   "source": [
    "### Create Training Data from the Dataset"
   ]
  },
  {
   "cell_type": "code",
   "execution_count": 4,
   "metadata": {},
   "outputs": [],
   "source": [
    "X = data.iloc[:, :].values"
   ]
  },
  {
   "cell_type": "markdown",
   "metadata": {},
   "source": [
    "### Scaling the dataset using StandardScaler"
   ]
  },
  {
   "cell_type": "code",
   "execution_count": 5,
   "metadata": {},
   "outputs": [],
   "source": [
    "from sklearn.preprocessing import StandardScaler\n",
    "scaler = StandardScaler()\n",
    "X = scaler.fit_transform(X)"
   ]
  },
  {
   "cell_type": "markdown",
   "metadata": {},
   "source": [
    "### Applying K-Means Clustering with K=3 on the Training Data"
   ]
  },
  {
   "cell_type": "code",
   "execution_count": 6,
   "metadata": {},
   "outputs": [],
   "source": [
    "from sklearn.cluster import KMeans\n",
    "kmeans = KMeans(n_clusters=3, init='k-means++', max_iter=300, n_init=10, random_state=0)"
   ]
  },
  {
   "cell_type": "markdown",
   "metadata": {},
   "source": [
    "### Classifying the Dataset Values into Clusters"
   ]
  },
  {
   "cell_type": "code",
   "execution_count": 7,
   "metadata": {},
   "outputs": [],
   "source": [
    "y_kmeans = kmeans.fit_predict(X)"
   ]
  },
  {
   "cell_type": "markdown",
   "metadata": {},
   "source": [
    "### Visualizing the Clustering Results"
   ]
  },
  {
   "cell_type": "code",
   "execution_count": 8,
   "metadata": {},
   "outputs": [
    {
     "data": {
      "image/png": "[encoded data removed]",
      "text/plain": [
       "<Figure size 432x288 with 1 Axes>"
      ]
     },
     "metadata": {
      "needs_background": "light"
     },
     "output_type": "display_data"
    }
   ],
   "source": [
    "plt.scatter(X[y_kmeans == 0, 0], X[y_kmeans == 0, 1], s=50, c='red', label='Cluster 1')\n",
    "plt.scatter(X[y_kmeans == 1, 0], X[y_kmeans == 1, 1], s=50, c='blue', label='Cluster 2')\n",
    "plt.scatter(X[y_kmeans == 2, 0], X[y_kmeans == 2, 1], s=50, c='green', label='Cluster 3')\n",
    "plt.scatter(kmeans.cluster_centers_[:, 0], kmeans.cluster_centers_[:, 1], s=100, c='magenta', label='Centroids')\n",
    "plt.title(\"K-Means Clustering\")\n",
    "plt.xlabel(\"Latitude\")\n",
    "plt.ylabel(\"Longitude\")\n",
    "plt.legend()\n",
    "plt.show()"
   ]
  },
  {
   "cell_type": "markdown",
   "metadata": {},
   "source": [
    "### Writing the results to ```clusters.txt```"
   ]
  },
  {
   "cell_type": "code",
   "execution_count": 9,
   "metadata": {},
   "outputs": [],
   "source": [
    "# Opening in write mode\n",
    "file_write = open(\"clusters.txt\", \"w\")"
   ]
  },
  {
   "cell_type": "code",
   "execution_count": 10,
   "metadata": {},
   "outputs": [],
   "source": [
    "for i in range(len(y_kmeans)):\n",
    "    file_write.write(\"{}\\t{}\\n\".format(i, y_kmeans[i]))"
   ]
  },
  {
   "cell_type": "code",
   "execution_count": 11,
   "metadata": {},
   "outputs": [],
   "source": [
    "file_write.close()"
   ]
  },
  {
   "cell_type": "markdown",
   "metadata": {},
   "source": [
    "### Reading ```clusters.txt```"
   ]
  },
  {
   "cell_type": "code",
   "execution_count": 12,
   "metadata": {},
   "outputs": [],
   "source": [
    "# Opening in read mode\n",
    "file_read = open(\"clusters.txt\", \"r\")"
   ]
  },
  {
   "cell_type": "code",
   "execution_count": 13,
   "metadata": {},
   "outputs": [
    {
     "name": "stdout",
     "output_type": "stream",
     "text": [
      "0\t1\n",
      "1\t1\n",
      "2\t1\n",
      "3\t1\n",
      "4\t0\n",
      "5\t0\n",
      "6\t2\n",
      "7\t1\n",
      "8\t1\n",
      "9\t2\n",
      "10\t1\n",
      "11\t2\n",
      "12\t0\n",
      "13\t1\n",
      "14\t2\n",
      "15\t2\n",
      "16\t2\n",
      "17\t1\n",
      "18\t2\n",
      "19\t0\n",
      "20\t0\n",
      "21\t0\n",
      "22\t0\n",
      "23\t2\n",
      "24\t1\n",
      "25\t0\n",
      "26\t1\n",
      "27\t0\n",
      "28\t1\n",
      "29\t1\n",
      "30\t0\n",
      "31\t2\n",
      "32\t1\n",
      "33\t1\n",
      "34\t1\n",
      "35\t2\n",
      "36\t0\n",
      "37\t1\n",
      "38\t0\n",
      "39\t2\n",
      "40\t2\n",
      "41\t2\n",
      "42\t2\n",
      "43\t2\n",
      "44\t2\n",
      "45\t0\n",
      "46\t1\n",
      "47\t2\n",
      "48\t1\n",
      "49\t1\n",
      "50\t0\n",
      "51\t2\n",
      "52\t1\n",
      "53\t2\n",
      "54\t0\n",
      "55\t2\n",
      "56\t1\n",
      "57\t2\n",
      "58\t0\n",
      "59\t2\n",
      "60\t1\n",
      "61\t0\n",
      "62\t2\n",
      "63\t1\n",
      "64\t0\n",
      "65\t2\n",
      "66\t2\n",
      "67\t1\n",
      "68\t0\n",
      "69\t2\n",
      "70\t0\n",
      "71\t1\n",
      "72\t2\n",
      "73\t0\n",
      "74\t1\n",
      "75\t1\n",
      "76\t1\n",
      "77\t2\n",
      "78\t0\n",
      "79\t1\n",
      "80\t1\n",
      "81\t2\n",
      "82\t1\n",
      "83\t0\n",
      "84\t1\n",
      "85\t1\n",
      "86\t0\n",
      "87\t1\n",
      "88\t0\n",
      "89\t1\n",
      "90\t0\n",
      "91\t0\n",
      "92\t1\n",
      "93\t0\n",
      "94\t0\n",
      "95\t0\n",
      "96\t2\n",
      "97\t2\n",
      "98\t1\n",
      "99\t1\n",
      "100\t1\n",
      "101\t0\n",
      "102\t1\n",
      "103\t1\n",
      "104\t2\n",
      "105\t2\n",
      "106\t1\n",
      "107\t0\n",
      "108\t1\n",
      "109\t1\n",
      "110\t0\n",
      "111\t2\n",
      "112\t1\n",
      "113\t0\n",
      "114\t1\n",
      "115\t1\n",
      "116\t0\n",
      "117\t1\n",
      "118\t0\n",
      "119\t0\n",
      "120\t2\n",
      "121\t2\n",
      "122\t1\n",
      "123\t0\n",
      "124\t2\n",
      "125\t0\n",
      "126\t2\n",
      "127\t0\n",
      "128\t2\n",
      "129\t0\n",
      "130\t2\n",
      "131\t0\n",
      "132\t2\n",
      "133\t1\n",
      "134\t1\n",
      "135\t0\n",
      "136\t0\n",
      "137\t1\n",
      "138\t1\n",
      "139\t0\n",
      "140\t2\n",
      "141\t2\n",
      "142\t1\n",
      "143\t0\n",
      "144\t2\n",
      "145\t2\n",
      "146\t2\n",
      "147\t1\n",
      "148\t2\n",
      "149\t2\n",
      "150\t0\n",
      "151\t2\n",
      "152\t2\n",
      "153\t0\n",
      "154\t0\n",
      "155\t0\n",
      "156\t0\n",
      "157\t0\n",
      "158\t2\n",
      "159\t2\n",
      "160\t0\n",
      "161\t1\n",
      "162\t0\n",
      "163\t1\n",
      "164\t2\n",
      "165\t0\n",
      "166\t0\n",
      "167\t0\n",
      "168\t0\n",
      "169\t0\n",
      "170\t0\n",
      "171\t1\n",
      "172\t1\n",
      "173\t2\n",
      "174\t2\n",
      "175\t1\n",
      "176\t0\n",
      "177\t2\n",
      "178\t2\n",
      "179\t0\n",
      "180\t1\n",
      "181\t0\n",
      "182\t2\n",
      "183\t2\n",
      "184\t0\n",
      "185\t2\n",
      "186\t2\n",
      "187\t0\n",
      "188\t1\n",
      "189\t0\n",
      "190\t2\n",
      "191\t2\n",
      "192\t1\n",
      "193\t1\n",
      "194\t1\n",
      "195\t2\n",
      "196\t1\n",
      "197\t1\n",
      "198\t2\n",
      "199\t1\n",
      "200\t0\n",
      "201\t1\n",
      "202\t2\n",
      "203\t1\n",
      "204\t0\n",
      "205\t2\n",
      "206\t1\n",
      "207\t0\n",
      "208\t2\n",
      "209\t2\n",
      "210\t0\n",
      "211\t2\n",
      "212\t2\n",
      "213\t1\n",
      "214\t0\n",
      "215\t0\n",
      "216\t1\n",
      "217\t0\n",
      "218\t1\n",
      "219\t0\n",
      "220\t1\n",
      "221\t0\n",
      "222\t0\n",
      "223\t0\n",
      "224\t2\n",
      "225\t2\n",
      "226\t2\n",
      "227\t1\n",
      "228\t2\n",
      "229\t1\n",
      "230\t1\n",
      "231\t2\n",
      "232\t2\n",
      "233\t0\n",
      "234\t0\n",
      "235\t2\n",
      "236\t1\n",
      "237\t2\n",
      "238\t1\n",
      "239\t2\n",
      "240\t1\n",
      "241\t1\n",
      "242\t2\n",
      "243\t2\n",
      "244\t2\n",
      "245\t2\n",
      "246\t2\n",
      "247\t2\n",
      "248\t2\n",
      "249\t1\n",
      "250\t2\n",
      "251\t2\n",
      "252\t0\n",
      "253\t0\n",
      "254\t0\n",
      "255\t0\n",
      "256\t2\n",
      "257\t1\n",
      "258\t2\n",
      "259\t1\n",
      "260\t0\n",
      "261\t1\n",
      "262\t2\n",
      "263\t0\n",
      "264\t0\n",
      "265\t1\n",
      "266\t0\n",
      "267\t1\n",
      "268\t0\n",
      "269\t1\n",
      "270\t0\n",
      "271\t2\n",
      "272\t1\n",
      "273\t2\n",
      "274\t0\n",
      "275\t0\n",
      "276\t1\n",
      "277\t1\n",
      "278\t0\n",
      "279\t0\n",
      "280\t2\n",
      "281\t2\n",
      "282\t2\n",
      "283\t2\n",
      "284\t0\n",
      "285\t0\n",
      "286\t2\n",
      "287\t0\n",
      "288\t0\n",
      "289\t1\n",
      "290\t0\n",
      "291\t1\n",
      "292\t2\n",
      "293\t1\n",
      "294\t0\n",
      "295\t1\n",
      "296\t1\n",
      "297\t1\n",
      "298\t0\n",
      "299\t1\n",
      "\n"
     ]
    }
   ],
   "source": [
    "print(file_read.read())"
   ]
  },
  {
   "cell_type": "code",
   "execution_count": 14,
   "metadata": {},
   "outputs": [],
   "source": [
    "file_read.close()"
   ]
  }
 ],
 "metadata": {
  "kernelspec": {
   "display_name": "Python 3",
   "language": "python",
   "name": "python3"
  },
  "language_info": {
   "codemirror_mode": {
    "name": "ipython",
    "version": 3
   },
   "file_extension": ".py",
   "mimetype": "text/x-python",
   "name": "python",
   "nbconvert_exporter": "python",
   "pygments_lexer": "ipython3",
   "version": "3.8.5"
  },
  "varInspector": {
   "cols": {
    "lenName": 16,
    "lenType": 16,
    "lenVar": 40
   },
   "kernels_config": {
    "python": {
     "delete_cmd_postfix": "",
     "delete_cmd_prefix": "del ",
     "library": "var_list.py",
     "varRefreshCmd": "print(var_dic_list())"
    },
    "r": {
     "delete_cmd_postfix": ") ",
     "delete_cmd_prefix": "rm(",
     "library": "var_list.r",
     "varRefreshCmd": "cat(var_dic_list()) "
    }
   },
   "types_to_exclude": [
    "module",
    "function",
    "builtin_function_or_method",
    "instance",
    "_Feature"
   ],
   "window_display": false
  }
 },
 "nbformat": 4,
 "nbformat_minor": 4
}
