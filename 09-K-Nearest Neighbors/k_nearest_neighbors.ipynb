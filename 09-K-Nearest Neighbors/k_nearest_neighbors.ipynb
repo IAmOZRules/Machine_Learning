{
 "cells": [
  {
   "cell_type": "markdown",
   "id": "63066bef",
   "metadata": {},
   "source": [
    "## Aim"
   ]
  },
  {
   "cell_type": "markdown",
   "id": "03a58f73",
   "metadata": {},
   "source": [
    "To apply K-Nearest Neighbors Clustering Algorithm on Iris Dataset, and find the optimal number of clusters and optimal training and test data size, and also evaluate the model with appropriate metrics."
   ]
  },
  {
   "cell_type": "markdown",
   "id": "16d33cdf",
   "metadata": {},
   "source": [
    "## Algorithm"
   ]
  },
  {
   "cell_type": "markdown",
   "id": "00d8b00a",
   "metadata": {},
   "source": [
    "1. Import the required libraries and dataet.\n",
    "2. Split the dataset into data and target.\n",
    "3. In a range of k = 1 to k = 30, find the value of K for which KNN model gives least error. This K is the optimal value for k.\n",
    "4. In a range of size = 0.1 to size = 0.9, find the value of size for which the train data split gives the least error. This is the optimal value for train_split.\n",
    "5. Fit the model with the above estimated parameters, and measure the accuracy, recall, precision and ROC."
   ]
  },
  {
   "cell_type": "markdown",
   "id": "0e0f97f9",
   "metadata": {},
   "source": [
    "## Code"
   ]
  },
  {
   "cell_type": "code",
   "execution_count": 1,
   "id": "427c49fb",
   "metadata": {},
   "outputs": [],
   "source": [
    "import pandas as pd\n",
    "import seaborn as sns\n",
    "import matplotlib.pyplot as plt"
   ]
  },
  {
   "cell_type": "markdown",
   "id": "d9670d51",
   "metadata": {},
   "source": [
    "### Importing the dataset"
   ]
  },
  {
   "cell_type": "code",
   "execution_count": 2,
   "id": "79874c94",
   "metadata": {},
   "outputs": [
    {
     "name": "stdout",
     "output_type": "stream",
     "text": [
      "Target Names:  ['setosa' 'versicolor' 'virginica']\n",
      "\n",
      "Feature Names:  ['sepal length (cm)', 'sepal width (cm)', 'petal length (cm)', 'petal width (cm)']\n"
     ]
    }
   ],
   "source": [
    "from sklearn.datasets import load_iris\n",
    "data = load_iris()\n",
    "print('Target Names: ', data.target_names)\n",
    "print('\\nFeature Names: ', data.feature_names)"
   ]
  },
  {
   "cell_type": "code",
   "execution_count": 3,
   "id": "ee8eea32",
   "metadata": {},
   "outputs": [
    {
     "name": "stdout",
     "output_type": "stream",
     "text": [
      "Number of examples in the data: (150, 4)\n"
     ]
    }
   ],
   "source": [
    "X = data.data      # Data attributes\n",
    "y = data.target    # Target Labels\n",
    "print('Number of examples in the data:', X.shape)"
   ]
  },
  {
   "cell_type": "markdown",
   "id": "e9dc5015",
   "metadata": {},
   "source": [
    "### Splitting into train and test sets"
   ]
  },
  {
   "cell_type": "code",
   "execution_count": 4,
   "id": "b6f5140d",
   "metadata": {},
   "outputs": [],
   "source": [
    "from sklearn.model_selection import train_test_split\n",
    "x_train, x_test, y_train, y_test = train_test_split(X, y, test_size=0.2)"
   ]
  },
  {
   "cell_type": "markdown",
   "id": "58e2a266",
   "metadata": {},
   "source": [
    "#### Finding the optimal value of K using 10 fold cross validation"
   ]
  },
  {
   "cell_type": "code",
   "execution_count": 5,
   "id": "89cd9473",
   "metadata": {},
   "outputs": [],
   "source": [
    "neighbors = []\n",
    "cv_scores = []\n",
    "k_range = list(range(1,30))\n",
    "\n",
    "from sklearn.neighbors import KNeighborsClassifier\n",
    "from sklearn.model_selection import cross_val_score\n",
    "for i in k_range:\n",
    "    neighbors.append(i)\n",
    "    knn = KNeighborsClassifier(n_neighbors = i)\n",
    "    \n",
    "    #Performing 10 fold cross-validation\n",
    "    \n",
    "    scores = cross_val_score(knn,x_train,y_train, cv = 10, scoring = 'accuracy')\n",
    "    cv_scores.append(scores.mean())"
   ]
  },
  {
   "cell_type": "code",
   "execution_count": 6,
   "id": "21301a52",
   "metadata": {},
   "outputs": [
    {
     "data": {
      "text/plain": [
       "[0.9583333333333334,\n",
       " 0.95,\n",
       " 0.9666666666666666,\n",
       " 0.975,\n",
       " 0.9666666666666666,\n",
       " 0.9833333333333332,\n",
       " 0.9833333333333332,\n",
       " 0.9583333333333333,\n",
       " 0.9666666666666666,\n",
       " 0.9666666666666666,\n",
       " 0.9666666666666666,\n",
       " 0.9749999999999999,\n",
       " 0.9749999999999999,\n",
       " 0.9749999999999999,\n",
       " 0.9666666666666666,\n",
       " 0.9666666666666666,\n",
       " 0.9666666666666666,\n",
       " 0.9416666666666667,\n",
       " 0.9416666666666667,\n",
       " 0.9333333333333333,\n",
       " 0.9333333333333333,\n",
       " 0.9333333333333333,\n",
       " 0.9416666666666667,\n",
       " 0.9416666666666667,\n",
       " 0.9416666666666667,\n",
       " 0.95,\n",
       " 0.9499999999999998,\n",
       " 0.9333333333333333,\n",
       " 0.9416666666666667]"
      ]
     },
     "execution_count": 6,
     "metadata": {},
     "output_type": "execute_result"
    }
   ],
   "source": [
    "cv_scores"
   ]
  },
  {
   "cell_type": "code",
   "execution_count": 7,
   "id": "06bfb645",
   "metadata": {},
   "outputs": [
    {
     "data": {
      "text/plain": [
       "Text(0, 0.5, 'Cross Validation Score')"
      ]
     },
     "execution_count": 7,
     "metadata": {},
     "output_type": "execute_result"
    },
    {
     "data": {
      "image/png": "[encoded data removed]",
      "text/plain": [
       "<Figure size 432x288 with 1 Axes>"
      ]
     },
     "metadata": {
      "needs_background": "light"
     },
     "output_type": "display_data"
    }
   ],
   "source": [
    "plt.plot(k_range, cv_scores)\n",
    "plt.xlabel('Value of K for KNN')\n",
    "plt.ylabel('Cross Validation Score')"
   ]
  },
  {
   "cell_type": "code",
   "execution_count": 8,
   "id": "122fc119",
   "metadata": {},
   "outputs": [
    {
     "name": "stdout",
     "output_type": "stream",
     "text": [
      "The optimal number of neighbors is: 6\n"
     ]
    }
   ],
   "source": [
    "MSE = [1-x for x in cv_scores]\n",
    "\n",
    "best_k = neighbors[MSE.index(min(MSE))]\n",
    "print(f'The optimal number of neighbors is: {best_k}')"
   ]
  },
  {
   "cell_type": "markdown",
   "id": "baf8697b",
   "metadata": {},
   "source": [
    "### Fitting the model"
   ]
  },
  {
   "cell_type": "code",
   "execution_count": 9,
   "id": "23e6933a",
   "metadata": {},
   "outputs": [
    {
     "data": {
      "text/plain": [
       "KNeighborsClassifier(n_neighbors=6)"
      ]
     },
     "execution_count": 9,
     "metadata": {},
     "output_type": "execute_result"
    }
   ],
   "source": [
    "model = KNeighborsClassifier(n_neighbors=best_k)\n",
    "model.fit(x_train,y_train)"
   ]
  },
  {
   "cell_type": "markdown",
   "id": "ee0c8009",
   "metadata": {},
   "source": [
    "### Predicting the results"
   ]
  },
  {
   "cell_type": "code",
   "execution_count": 10,
   "id": "da150337",
   "metadata": {},
   "outputs": [
    {
     "data": {
      "text/plain": [
       "array([2, 0, 2, 1, 2, 0, 1, 1, 1, 1, 0, 0, 2, 0, 1, 2, 0, 1, 0, 1, 2, 2,\n",
       "       0, 2, 0, 1, 2, 0, 2, 0])"
      ]
     },
     "execution_count": 10,
     "metadata": {},
     "output_type": "execute_result"
    }
   ],
   "source": [
    "y_pred = model.predict(x_test)\n",
    "y_pred"
   ]
  },
  {
   "cell_type": "markdown",
   "id": "846c0dff",
   "metadata": {},
   "source": [
    "### Classification Report"
   ]
  },
  {
   "cell_type": "code",
   "execution_count": 11,
   "id": "1be3d7f2",
   "metadata": {},
   "outputs": [],
   "source": [
    "from sklearn.metrics import classification_report, confusion_matrix\n",
    "from sklearn.metrics import accuracy_score, precision_score, recall_score"
   ]
  },
  {
   "cell_type": "code",
   "execution_count": 12,
   "id": "7d8d34a0",
   "metadata": {},
   "outputs": [
    {
     "name": "stdout",
     "output_type": "stream",
     "text": [
      "Accuracy of Model: 0.9666666666666667\n",
      "Precision of Model: 0.9700000000000001\n",
      "Recall of Model: 0.9666666666666667\n",
      "\n",
      "              precision    recall  f1-score   support\n",
      "\n",
      "           0       1.00      1.00      1.00        11\n",
      "           1       1.00      0.90      0.95        10\n",
      "           2       0.90      1.00      0.95         9\n",
      "\n",
      "    accuracy                           0.97        30\n",
      "   macro avg       0.97      0.97      0.96        30\n",
      "weighted avg       0.97      0.97      0.97        30\n",
      "\n"
     ]
    }
   ],
   "source": [
    "print('Accuracy of Model: {}'.format(accuracy_score(y_test, y_pred)))\n",
    "print('Precision of Model: {}'.format(precision_score(y_test, y_pred, average='weighted')))\n",
    "print('Recall of Model: {}\\n'.format(recall_score(y_test, y_pred, average='weighted')))\n",
    "print(classification_report(y_test, y_pred))"
   ]
  },
  {
   "cell_type": "markdown",
   "id": "7364328c",
   "metadata": {},
   "source": [
    "### Finding the optimal train_split value"
   ]
  },
  {
   "cell_type": "code",
   "execution_count": 13,
   "id": "8c1d1344",
   "metadata": {},
   "outputs": [
    {
     "data": {
      "text/plain": [
       "[0.1, 0.2, 0.3, 0.4, 0.5, 0.6, 0.7, 0.8, 0.9]"
      ]
     },
     "execution_count": 13,
     "metadata": {},
     "output_type": "execute_result"
    }
   ],
   "source": [
    "split_size = [0.1]\n",
    "\n",
    "size = 0.1\n",
    "while size < 0.8:\n",
    "    size += 0.1\n",
    "    split_size.append(round(size, 1))\n",
    "\n",
    "split_size"
   ]
  },
  {
   "cell_type": "code",
   "execution_count": 14,
   "id": "2f6117eb",
   "metadata": {},
   "outputs": [
    {
     "data": {
      "text/plain": [
       "[0.6518518518518519,\n",
       " 0.8583333333333333,\n",
       " 0.9619047619047619,\n",
       " 0.9888888888888889,\n",
       " 0.9466666666666667,\n",
       " 1.0,\n",
       " 0.9111111111111111,\n",
       " 0.9333333333333333,\n",
       " 0.9333333333333333]"
      ]
     },
     "execution_count": 14,
     "metadata": {},
     "output_type": "execute_result"
    }
   ],
   "source": [
    "acc_score = []\n",
    "\n",
    "for size in split_size:\n",
    "    x_train, x_test, y_train, y_test = train_test_split(X, y, train_size=size)\n",
    "    model = KNeighborsClassifier(n_neighbors=best_k)\n",
    "    model.fit(x_train,y_train)\n",
    "    y_pred = model.predict(x_test)\n",
    "    acc_score.append(accuracy_score(y_test, y_pred))\n",
    "\n",
    "acc_score"
   ]
  },
  {
   "cell_type": "code",
   "execution_count": 15,
   "id": "8e6584c0",
   "metadata": {},
   "outputs": [
    {
     "data": {
      "text/plain": [
       "Text(0, 0.5, 'Accuracy of KNN for k=15')"
      ]
     },
     "execution_count": 15,
     "metadata": {},
     "output_type": "execute_result"
    },
    {
     "data": {
      "image/png": "[encoded data removed]",
      "text/plain": [
       "<Figure size 432x288 with 1 Axes>"
      ]
     },
     "metadata": {
      "needs_background": "light"
     },
     "output_type": "display_data"
    }
   ],
   "source": [
    "plt.plot(split_size, acc_score)\n",
    "plt.xlabel('Train Datset Size')\n",
    "plt.ylabel('Accuracy of KNN for k=15')"
   ]
  },
  {
   "cell_type": "code",
   "execution_count": 16,
   "id": "5af127f6",
   "metadata": {},
   "outputs": [
    {
     "name": "stdout",
     "output_type": "stream",
     "text": [
      "The optimal split size for train data is : 0.6\n"
     ]
    }
   ],
   "source": [
    "MSE = [1-x for x in acc_score]\n",
    "\n",
    "best_size = split_size[MSE.index(min(MSE))]\n",
    "print(f'The optimal split size for train data is : {best_size}')"
   ]
  },
  {
   "cell_type": "markdown",
   "id": "07a96554",
   "metadata": {},
   "source": [
    "### Fitting the model to the optimal values"
   ]
  },
  {
   "cell_type": "code",
   "execution_count": 17,
   "id": "89f65cdc",
   "metadata": {},
   "outputs": [
    {
     "name": "stdout",
     "output_type": "stream",
     "text": [
      "Accuracy of Model: 0.9666666666666667\n",
      "Precision of Model: 0.9696969696969696\n",
      "Recall of Model: 0.9666666666666667\n",
      "\n",
      "              precision    recall  f1-score   support\n",
      "\n",
      "           0       1.00      1.00      1.00        16\n",
      "           1       1.00      0.92      0.96        24\n",
      "           2       0.91      1.00      0.95        20\n",
      "\n",
      "    accuracy                           0.97        60\n",
      "   macro avg       0.97      0.97      0.97        60\n",
      "weighted avg       0.97      0.97      0.97        60\n",
      "\n"
     ]
    }
   ],
   "source": [
    "x_train, x_test, y_train, y_test = train_test_split(X, y, train_size=best_size)\n",
    "\n",
    "model = KNeighborsClassifier(n_neighbors=best_k)\n",
    "model.fit(x_train,y_train)\n",
    "\n",
    "y_pred = model.predict(x_test)\n",
    "\n",
    "print('Accuracy of Model: {}'.format(accuracy_score(y_test, y_pred)))\n",
    "print('Precision of Model: {}'.format(precision_score(y_test, y_pred, average='weighted')))\n",
    "print('Recall of Model: {}\\n'.format(recall_score(y_test, y_pred, average='weighted')))\n",
    "print(classification_report(y_test, y_pred))"
   ]
  },
  {
   "cell_type": "markdown",
   "id": "c4610fa2",
   "metadata": {},
   "source": [
    "### ROC Curve for the KNN model"
   ]
  },
  {
   "cell_type": "code",
   "execution_count": 18,
   "id": "5abda680",
   "metadata": {},
   "outputs": [
    {
     "data": {
      "image/png": "[encoded data removed]",
      "text/plain": [
       "<Figure size 720x720 with 1 Axes>"
      ]
     },
     "metadata": {
      "needs_background": "light"
     },
     "output_type": "display_data"
    }
   ],
   "source": [
    "predicted_probas = model.predict_proba(x_test)\n",
    "\n",
    "import matplotlib.pyplot as plt\n",
    "import scikitplot as skplt\n",
    "plt.rcParams[\"figure.figsize\"] = (10,10)\n",
    "skplt.metrics.plot_roc(y_test, predicted_probas)\n",
    "plt.show()"
   ]
  },
  {
   "cell_type": "markdown",
   "id": "7129155b",
   "metadata": {},
   "source": [
    "## Conclusion"
   ]
  },
  {
   "cell_type": "markdown",
   "id": "002f9973",
   "metadata": {},
   "source": [
    "We conclude that the KNN model has an **accuracy of 96.67%** with **k=15** and **train_split=0.6**"
   ]
  }
 ],
 "metadata": {
  "kernelspec": {
   "display_name": "Python 3",
   "language": "python",
   "name": "python3"
  },
  "language_info": {
   "codemirror_mode": {
    "name": "ipython",
    "version": 3
   },
   "file_extension": ".py",
   "mimetype": "text/x-python",
   "name": "python",
   "nbconvert_exporter": "python",
   "pygments_lexer": "ipython3",
   "version": "3.9.1"
  }
 },
 "nbformat": 4,
 "nbformat_minor": 5
}
